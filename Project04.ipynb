{
 "cells": [
  {
   "cell_type": "code",
   "execution_count": 121,
   "id": "f52f63f8",
   "metadata": {},
   "outputs": [
    {
     "name": "stdout",
     "output_type": "stream",
     "text": [
      "Defaulting to user installation because normal site-packages is not writeable\n",
      "Requirement already satisfied: openpyxl in c:\\users\\ken\\appdata\\roaming\\python\\python311\\site-packages (3.1.2)\n",
      "Requirement already satisfied: et-xmlfile in c:\\users\\ken\\appdata\\roaming\\python\\python311\\site-packages (from openpyxl) (1.1.0)\n"
     ]
    },
    {
     "name": "stderr",
     "output_type": "stream",
     "text": [
      "\n",
      "[notice] A new release of pip is available: 23.1.2 -> 23.3.2\n",
      "[notice] To update, run: python.exe -m pip install --upgrade pip\n"
     ]
    },
    {
     "name": "stdout",
     "output_type": "stream",
     "text": [
      "Defaulting to user installation because normal site-packages is not writeable\n",
      "Requirement already satisfied: mlxtend in c:\\users\\ken\\appdata\\roaming\\python\\python311\\site-packages (0.23.0)\n",
      "Requirement already satisfied: scipy>=1.2.1 in c:\\users\\ken\\appdata\\roaming\\python\\python311\\site-packages (from mlxtend) (1.11.3)\n",
      "Requirement already satisfied: numpy>=1.16.2 in c:\\users\\ken\\appdata\\roaming\\python\\python311\\site-packages (from mlxtend) (1.26.0)\n",
      "Requirement already satisfied: pandas>=0.24.2 in c:\\users\\ken\\appdata\\roaming\\python\\python311\\site-packages (from mlxtend) (2.1.1)\n",
      "Requirement already satisfied: scikit-learn>=1.0.2 in c:\\users\\ken\\appdata\\roaming\\python\\python311\\site-packages (from mlxtend) (1.3.1)\n",
      "Requirement already satisfied: matplotlib>=3.0.0 in c:\\users\\ken\\appdata\\roaming\\python\\python311\\site-packages (from mlxtend) (3.8.0)\n",
      "Requirement already satisfied: joblib>=0.13.2 in c:\\users\\ken\\appdata\\roaming\\python\\python311\\site-packages (from mlxtend) (1.3.2)\n",
      "Requirement already satisfied: contourpy>=1.0.1 in c:\\users\\ken\\appdata\\roaming\\python\\python311\\site-packages (from matplotlib>=3.0.0->mlxtend) (1.1.1)\n",
      "Requirement already satisfied: cycler>=0.10 in c:\\users\\ken\\appdata\\roaming\\python\\python311\\site-packages (from matplotlib>=3.0.0->mlxtend) (0.12.1)\n",
      "Requirement already satisfied: fonttools>=4.22.0 in c:\\users\\ken\\appdata\\roaming\\python\\python311\\site-packages (from matplotlib>=3.0.0->mlxtend) (4.43.1)\n",
      "Requirement already satisfied: kiwisolver>=1.0.1 in c:\\users\\ken\\appdata\\roaming\\python\\python311\\site-packages (from matplotlib>=3.0.0->mlxtend) (1.4.5)\n",
      "Requirement already satisfied: packaging>=20.0 in c:\\users\\ken\\appdata\\roaming\\python\\python311\\site-packages (from matplotlib>=3.0.0->mlxtend) (23.1)\n",
      "Requirement already satisfied: pillow>=6.2.0 in c:\\users\\ken\\appdata\\roaming\\python\\python311\\site-packages (from matplotlib>=3.0.0->mlxtend) (10.0.1)\n",
      "Requirement already satisfied: pyparsing>=2.3.1 in c:\\users\\ken\\appdata\\roaming\\python\\python311\\site-packages (from matplotlib>=3.0.0->mlxtend) (3.1.1)\n",
      "Requirement already satisfied: python-dateutil>=2.7 in c:\\users\\ken\\appdata\\roaming\\python\\python311\\site-packages (from matplotlib>=3.0.0->mlxtend) (2.8.2)\n",
      "Requirement already satisfied: pytz>=2020.1 in c:\\users\\ken\\appdata\\roaming\\python\\python311\\site-packages (from pandas>=0.24.2->mlxtend) (2023.3.post1)\n",
      "Requirement already satisfied: tzdata>=2022.1 in c:\\users\\ken\\appdata\\roaming\\python\\python311\\site-packages (from pandas>=0.24.2->mlxtend) (2023.3)\n",
      "Requirement already satisfied: threadpoolctl>=2.0.0 in c:\\users\\ken\\appdata\\roaming\\python\\python311\\site-packages (from scikit-learn>=1.0.2->mlxtend) (3.2.0)\n",
      "Requirement already satisfied: six>=1.5 in c:\\users\\ken\\appdata\\roaming\\python\\python311\\site-packages (from python-dateutil>=2.7->matplotlib>=3.0.0->mlxtend) (1.16.0)\n"
     ]
    },
    {
     "name": "stderr",
     "output_type": "stream",
     "text": [
      "\n",
      "[notice] A new release of pip is available: 23.1.2 -> 23.3.2\n",
      "[notice] To update, run: python.exe -m pip install --upgrade pip\n"
     ]
    },
    {
     "name": "stdout",
     "output_type": "stream",
     "text": [
      "Defaulting to user installation because normal site-packages is not writeable\n",
      "Collecting xlsxwriter\n",
      "  Downloading XlsxWriter-3.1.9-py3-none-any.whl (154 kB)\n",
      "                                              0.0/154.8 kB ? eta -:--:--\n",
      "     -------                                 30.7/154.8 kB 1.4 MB/s eta 0:00:01\n",
      "     ---------------------------            112.6/154.8 kB 1.3 MB/s eta 0:00:01\n",
      "     -------------------------------------- 154.8/154.8 kB 1.2 MB/s eta 0:00:00\n",
      "Installing collected packages: xlsxwriter\n",
      "Successfully installed xlsxwriter-3.1.9\n"
     ]
    },
    {
     "name": "stderr",
     "output_type": "stream",
     "text": [
      "\n",
      "[notice] A new release of pip is available: 23.1.2 -> 23.3.2\n",
      "[notice] To update, run: python.exe -m pip install --upgrade pip\n"
     ]
    }
   ],
   "source": [
    "!pip install openpyxl\n",
    "!pip install mlxtend\n",
    "!pip install xlsxwriter "
   ]
  },
  {
   "cell_type": "code",
   "execution_count": 198,
   "id": "3e0fc6bc",
   "metadata": {},
   "outputs": [],
   "source": [
    "import pandas as pd\n",
    "from mlxtend.frequent_patterns import association_rules, apriori\n",
    "import time"
   ]
  },
  {
   "cell_type": "code",
   "execution_count": 3,
   "id": "394b63ab",
   "metadata": {},
   "outputs": [
    {
     "data": {
      "text/html": [
       "<div>\n",
       "<style scoped>\n",
       "    .dataframe tbody tr th:only-of-type {\n",
       "        vertical-align: middle;\n",
       "    }\n",
       "\n",
       "    .dataframe tbody tr th {\n",
       "        vertical-align: top;\n",
       "    }\n",
       "\n",
       "    .dataframe thead th {\n",
       "        text-align: right;\n",
       "    }\n",
       "</style>\n",
       "<table border=\"1\" class=\"dataframe\">\n",
       "  <thead>\n",
       "    <tr style=\"text-align: right;\">\n",
       "      <th></th>\n",
       "      <th>INVOICE_NO</th>\n",
       "      <th>CUST_ID</th>\n",
       "      <th>ITEM_ID</th>\n",
       "      <th>ITEM_NO</th>\n",
       "      <th>PRODUCT_TYPE</th>\n",
       "      <th>TRX_DATE</th>\n",
       "      <th>QUANTITY</th>\n",
       "    </tr>\n",
       "  </thead>\n",
       "  <tbody>\n",
       "    <tr>\n",
       "      <th>0</th>\n",
       "      <td>CX47348203</td>\n",
       "      <td>3218</td>\n",
       "      <td>3217532</td>\n",
       "      <td>M25P40-VMN6TPB</td>\n",
       "      <td>MEMORY_EMBEDED</td>\n",
       "      <td>2016-07-26</td>\n",
       "      <td>2500</td>\n",
       "    </tr>\n",
       "    <tr>\n",
       "      <th>1</th>\n",
       "      <td>CX47346522</td>\n",
       "      <td>2470</td>\n",
       "      <td>3326781</td>\n",
       "      <td>AU80610006237AASLBX9</td>\n",
       "      <td>CPU / MPU</td>\n",
       "      <td>2016-07-11</td>\n",
       "      <td>50</td>\n",
       "    </tr>\n",
       "    <tr>\n",
       "      <th>2</th>\n",
       "      <td>CX47348534</td>\n",
       "      <td>16135</td>\n",
       "      <td>740487</td>\n",
       "      <td>MMBD2837LT1G</td>\n",
       "      <td>DISCRETE</td>\n",
       "      <td>2016-07-27</td>\n",
       "      <td>3000</td>\n",
       "    </tr>\n",
       "    <tr>\n",
       "      <th>3</th>\n",
       "      <td>A20160700174</td>\n",
       "      <td>999999999</td>\n",
       "      <td>3434776</td>\n",
       "      <td>IHLP1616ABER2R2M11</td>\n",
       "      <td>PEMCO</td>\n",
       "      <td>2016-07-29</td>\n",
       "      <td>0</td>\n",
       "    </tr>\n",
       "    <tr>\n",
       "      <th>4</th>\n",
       "      <td>CX47346184</td>\n",
       "      <td>2356</td>\n",
       "      <td>70072</td>\n",
       "      <td>MMBT3906LT1G</td>\n",
       "      <td>DISCRETE</td>\n",
       "      <td>2016-07-06</td>\n",
       "      <td>12000</td>\n",
       "    </tr>\n",
       "  </tbody>\n",
       "</table>\n",
       "</div>"
      ],
      "text/plain": [
       "     INVOICE_NO    CUST_ID  ITEM_ID               ITEM_NO    PRODUCT_TYPE  \\\n",
       "0    CX47348203       3218  3217532        M25P40-VMN6TPB  MEMORY_EMBEDED   \n",
       "1    CX47346522       2470  3326781  AU80610006237AASLBX9       CPU / MPU   \n",
       "2    CX47348534      16135   740487          MMBD2837LT1G        DISCRETE   \n",
       "3  A20160700174  999999999  3434776    IHLP1616ABER2R2M11           PEMCO   \n",
       "4    CX47346184       2356    70072          MMBT3906LT1G        DISCRETE   \n",
       "\n",
       "    TRX_DATE  QUANTITY  \n",
       "0 2016-07-26      2500  \n",
       "1 2016-07-11        50  \n",
       "2 2016-07-27      3000  \n",
       "3 2016-07-29         0  \n",
       "4 2016-07-06     12000  "
      ]
     },
     "execution_count": 3,
     "metadata": {},
     "output_type": "execute_result"
    }
   ],
   "source": [
    "df = pd.read_excel('交易資料集.xlsx')\n",
    "df.head()"
   ]
  },
  {
   "cell_type": "code",
   "execution_count": 5,
   "id": "d50ec349",
   "metadata": {
    "scrolled": true
   },
   "outputs": [
    {
     "data": {
      "text/plain": [
       "(157396, 7)"
      ]
     },
     "execution_count": 5,
     "metadata": {},
     "output_type": "execute_result"
    }
   ],
   "source": [
    "df.shape"
   ]
  },
  {
   "cell_type": "code",
   "execution_count": 6,
   "id": "5382f778",
   "metadata": {},
   "outputs": [],
   "source": [
    "# remove rows where QUANTITY is less or equal to zero\n",
    "df = df[df.QUANTITY > 0]"
   ]
  },
  {
   "cell_type": "code",
   "execution_count": 7,
   "id": "a2e9cf33",
   "metadata": {},
   "outputs": [
    {
     "data": {
      "text/html": [
       "<div>\n",
       "<style scoped>\n",
       "    .dataframe tbody tr th:only-of-type {\n",
       "        vertical-align: middle;\n",
       "    }\n",
       "\n",
       "    .dataframe tbody tr th {\n",
       "        vertical-align: top;\n",
       "    }\n",
       "\n",
       "    .dataframe thead th {\n",
       "        text-align: right;\n",
       "    }\n",
       "</style>\n",
       "<table border=\"1\" class=\"dataframe\">\n",
       "  <thead>\n",
       "    <tr style=\"text-align: right;\">\n",
       "      <th></th>\n",
       "      <th>INVOICE_NO</th>\n",
       "      <th>CUST_ID</th>\n",
       "      <th>ITEM_ID</th>\n",
       "      <th>ITEM_NO</th>\n",
       "      <th>PRODUCT_TYPE</th>\n",
       "      <th>TRX_DATE</th>\n",
       "      <th>QUANTITY</th>\n",
       "    </tr>\n",
       "  </thead>\n",
       "  <tbody>\n",
       "    <tr>\n",
       "      <th>0</th>\n",
       "      <td>CX47348203</td>\n",
       "      <td>3218</td>\n",
       "      <td>3217532</td>\n",
       "      <td>M25P40-VMN6TPB</td>\n",
       "      <td>MEMORY_EMBEDED</td>\n",
       "      <td>2016-07-26</td>\n",
       "      <td>2500</td>\n",
       "    </tr>\n",
       "    <tr>\n",
       "      <th>1</th>\n",
       "      <td>CX47346522</td>\n",
       "      <td>2470</td>\n",
       "      <td>3326781</td>\n",
       "      <td>AU80610006237AASLBX9</td>\n",
       "      <td>CPU / MPU</td>\n",
       "      <td>2016-07-11</td>\n",
       "      <td>50</td>\n",
       "    </tr>\n",
       "    <tr>\n",
       "      <th>2</th>\n",
       "      <td>CX47348534</td>\n",
       "      <td>16135</td>\n",
       "      <td>740487</td>\n",
       "      <td>MMBD2837LT1G</td>\n",
       "      <td>DISCRETE</td>\n",
       "      <td>2016-07-27</td>\n",
       "      <td>3000</td>\n",
       "    </tr>\n",
       "    <tr>\n",
       "      <th>4</th>\n",
       "      <td>CX47346184</td>\n",
       "      <td>2356</td>\n",
       "      <td>70072</td>\n",
       "      <td>MMBT3906LT1G</td>\n",
       "      <td>DISCRETE</td>\n",
       "      <td>2016-07-06</td>\n",
       "      <td>12000</td>\n",
       "    </tr>\n",
       "    <tr>\n",
       "      <th>6</th>\n",
       "      <td>CX47347899</td>\n",
       "      <td>10228</td>\n",
       "      <td>3420352</td>\n",
       "      <td>TMP103AYFFR</td>\n",
       "      <td>LINEAR IC</td>\n",
       "      <td>2016-07-25</td>\n",
       "      <td>3000</td>\n",
       "    </tr>\n",
       "    <tr>\n",
       "      <th>...</th>\n",
       "      <td>...</td>\n",
       "      <td>...</td>\n",
       "      <td>...</td>\n",
       "      <td>...</td>\n",
       "      <td>...</td>\n",
       "      <td>...</td>\n",
       "      <td>...</td>\n",
       "    </tr>\n",
       "    <tr>\n",
       "      <th>157389</th>\n",
       "      <td>216071271</td>\n",
       "      <td>2100</td>\n",
       "      <td>14691206</td>\n",
       "      <td>74HCT365D,653</td>\n",
       "      <td>LOGIC IC</td>\n",
       "      <td>2016-07-06</td>\n",
       "      <td>7030</td>\n",
       "    </tr>\n",
       "    <tr>\n",
       "      <th>157390</th>\n",
       "      <td>216075314</td>\n",
       "      <td>2197</td>\n",
       "      <td>3249493</td>\n",
       "      <td>74HC04D,653</td>\n",
       "      <td>LOGIC IC</td>\n",
       "      <td>2016-07-21</td>\n",
       "      <td>347</td>\n",
       "    </tr>\n",
       "    <tr>\n",
       "      <th>157391</th>\n",
       "      <td>216072287</td>\n",
       "      <td>2579</td>\n",
       "      <td>133619</td>\n",
       "      <td>74LVC2G17GW,125</td>\n",
       "      <td>LOGIC IC</td>\n",
       "      <td>2016-07-11</td>\n",
       "      <td>1644</td>\n",
       "    </tr>\n",
       "    <tr>\n",
       "      <th>157392</th>\n",
       "      <td>216077517</td>\n",
       "      <td>43262</td>\n",
       "      <td>15231095</td>\n",
       "      <td>MT41K256M16TW-107:P TRAY</td>\n",
       "      <td>MEMORY_EMBEDED</td>\n",
       "      <td>2016-07-28</td>\n",
       "      <td>300000</td>\n",
       "    </tr>\n",
       "    <tr>\n",
       "      <th>157395</th>\n",
       "      <td>216070810</td>\n",
       "      <td>47302</td>\n",
       "      <td>14852949</td>\n",
       "      <td>MT41K64M16TW-107:J</td>\n",
       "      <td>MEMORY_EMBEDED</td>\n",
       "      <td>2016-07-05</td>\n",
       "      <td>2000</td>\n",
       "    </tr>\n",
       "  </tbody>\n",
       "</table>\n",
       "<p>128837 rows × 7 columns</p>\n",
       "</div>"
      ],
      "text/plain": [
       "        INVOICE_NO  CUST_ID   ITEM_ID                   ITEM_NO  \\\n",
       "0       CX47348203     3218   3217532            M25P40-VMN6TPB   \n",
       "1       CX47346522     2470   3326781      AU80610006237AASLBX9   \n",
       "2       CX47348534    16135    740487              MMBD2837LT1G   \n",
       "4       CX47346184     2356     70072              MMBT3906LT1G   \n",
       "6       CX47347899    10228   3420352               TMP103AYFFR   \n",
       "...            ...      ...       ...                       ...   \n",
       "157389   216071271     2100  14691206             74HCT365D,653   \n",
       "157390   216075314     2197   3249493               74HC04D,653   \n",
       "157391   216072287     2579    133619           74LVC2G17GW,125   \n",
       "157392   216077517    43262  15231095  MT41K256M16TW-107:P TRAY   \n",
       "157395   216070810    47302  14852949        MT41K64M16TW-107:J   \n",
       "\n",
       "          PRODUCT_TYPE   TRX_DATE  QUANTITY  \n",
       "0       MEMORY_EMBEDED 2016-07-26      2500  \n",
       "1            CPU / MPU 2016-07-11        50  \n",
       "2             DISCRETE 2016-07-27      3000  \n",
       "4             DISCRETE 2016-07-06     12000  \n",
       "6            LINEAR IC 2016-07-25      3000  \n",
       "...                ...        ...       ...  \n",
       "157389        LOGIC IC 2016-07-06      7030  \n",
       "157390        LOGIC IC 2016-07-21       347  \n",
       "157391        LOGIC IC 2016-07-11      1644  \n",
       "157392  MEMORY_EMBEDED 2016-07-28    300000  \n",
       "157395  MEMORY_EMBEDED 2016-07-05      2000  \n",
       "\n",
       "[128837 rows x 7 columns]"
      ]
     },
     "execution_count": 7,
     "metadata": {},
     "output_type": "execute_result"
    }
   ],
   "source": [
    "df"
   ]
  },
  {
   "cell_type": "code",
   "execution_count": 8,
   "id": "0d22611c",
   "metadata": {},
   "outputs": [
    {
     "data": {
      "text/plain": [
       "INVOICE_NO      36498\n",
       "CUST_ID          4273\n",
       "ITEM_ID         23710\n",
       "ITEM_NO         23710\n",
       "PRODUCT_TYPE       10\n",
       "TRX_DATE           36\n",
       "QUANTITY         6479\n",
       "dtype: int64"
      ]
     },
     "execution_count": 8,
     "metadata": {},
     "output_type": "execute_result"
    }
   ],
   "source": [
    "# INVOICE_NO: sum of transaction\n",
    "# ITEM_ID: sum of type of items\n",
    "df.nunique()"
   ]
  },
  {
   "cell_type": "code",
   "execution_count": 9,
   "id": "f3459887",
   "metadata": {
    "scrolled": true
   },
   "outputs": [
    {
     "data": {
      "text/html": [
       "<div>\n",
       "<style scoped>\n",
       "    .dataframe tbody tr th:only-of-type {\n",
       "        vertical-align: middle;\n",
       "    }\n",
       "\n",
       "    .dataframe tbody tr th {\n",
       "        vertical-align: top;\n",
       "    }\n",
       "\n",
       "    .dataframe thead th {\n",
       "        text-align: right;\n",
       "    }\n",
       "</style>\n",
       "<table border=\"1\" class=\"dataframe\">\n",
       "  <thead>\n",
       "    <tr style=\"text-align: right;\">\n",
       "      <th></th>\n",
       "      <th>INVOICE_NO</th>\n",
       "      <th>ITEM_ID</th>\n",
       "    </tr>\n",
       "  </thead>\n",
       "  <tbody>\n",
       "    <tr>\n",
       "      <th>0</th>\n",
       "      <td>CX47348203</td>\n",
       "      <td>3217532</td>\n",
       "    </tr>\n",
       "    <tr>\n",
       "      <th>1</th>\n",
       "      <td>CX47346522</td>\n",
       "      <td>3326781</td>\n",
       "    </tr>\n",
       "    <tr>\n",
       "      <th>2</th>\n",
       "      <td>CX47348534</td>\n",
       "      <td>740487</td>\n",
       "    </tr>\n",
       "    <tr>\n",
       "      <th>4</th>\n",
       "      <td>CX47346184</td>\n",
       "      <td>70072</td>\n",
       "    </tr>\n",
       "    <tr>\n",
       "      <th>6</th>\n",
       "      <td>CX47347899</td>\n",
       "      <td>3420352</td>\n",
       "    </tr>\n",
       "    <tr>\n",
       "      <th>...</th>\n",
       "      <td>...</td>\n",
       "      <td>...</td>\n",
       "    </tr>\n",
       "    <tr>\n",
       "      <th>157389</th>\n",
       "      <td>216071271</td>\n",
       "      <td>14691206</td>\n",
       "    </tr>\n",
       "    <tr>\n",
       "      <th>157390</th>\n",
       "      <td>216075314</td>\n",
       "      <td>3249493</td>\n",
       "    </tr>\n",
       "    <tr>\n",
       "      <th>157391</th>\n",
       "      <td>216072287</td>\n",
       "      <td>133619</td>\n",
       "    </tr>\n",
       "    <tr>\n",
       "      <th>157392</th>\n",
       "      <td>216077517</td>\n",
       "      <td>15231095</td>\n",
       "    </tr>\n",
       "    <tr>\n",
       "      <th>157395</th>\n",
       "      <td>216070810</td>\n",
       "      <td>14852949</td>\n",
       "    </tr>\n",
       "  </tbody>\n",
       "</table>\n",
       "<p>128837 rows × 2 columns</p>\n",
       "</div>"
      ],
      "text/plain": [
       "        INVOICE_NO   ITEM_ID\n",
       "0       CX47348203   3217532\n",
       "1       CX47346522   3326781\n",
       "2       CX47348534    740487\n",
       "4       CX47346184     70072\n",
       "6       CX47347899   3420352\n",
       "...            ...       ...\n",
       "157389   216071271  14691206\n",
       "157390   216075314   3249493\n",
       "157391   216072287    133619\n",
       "157392   216077517  15231095\n",
       "157395   216070810  14852949\n",
       "\n",
       "[128837 rows x 2 columns]"
      ]
     },
     "execution_count": 9,
     "metadata": {},
     "output_type": "execute_result"
    }
   ],
   "source": [
    "df2 = df[[\"INVOICE_NO\", \"ITEM_ID\"]]\n",
    "df2"
   ]
  },
  {
   "cell_type": "code",
   "execution_count": 10,
   "id": "41c1ff5f",
   "metadata": {},
   "outputs": [],
   "source": [
    "# set of items of transactions containing tid\n",
    "h_data = {}\n",
    "items = []\n",
    "#set of indices of transactions containing item\n",
    "v_data = {}\n",
    "for i in df.index:\n",
    "    if df['ITEM_ID'][i] not in items:\n",
    "        items.append(df['ITEM_ID'][i])\n",
    "    if str(df['INVOICE_NO'][i]) in h_data:\n",
    "        h_data[str(df['INVOICE_NO'][i])].append(str(df['ITEM_ID'][i]))\n",
    "    else:\n",
    "        h_data[str(df['INVOICE_NO'][i])] = [str(df['ITEM_ID'][i])]\n",
    "        \n",
    "    if str(df['ITEM_ID'][i]) in v_data:\n",
    "        v_data[str(df['ITEM_ID'][i])].append(str(df['INVOICE_NO'][i]))\n",
    "    else:\n",
    "        v_data[str(df['ITEM_ID'][i])] = [str(df['INVOICE_NO'][i])]\n"
   ]
  },
  {
   "cell_type": "code",
   "execution_count": 14,
   "id": "905f5f43",
   "metadata": {},
   "outputs": [],
   "source": [
    "class UtilityList:\n",
    "    def __init__(self, item, UL):\n",
    "        self.item = item\n",
    "        self.UL = UL\n",
    "        pass"
   ]
  },
  {
   "cell_type": "code",
   "execution_count": 15,
   "id": "8919b9a5",
   "metadata": {},
   "outputs": [],
   "source": [
    "def Construct(P_UL, Px_UL, Py_UL):\n",
    "    Pxy_UL = []\n",
    "    Ex_index = 0\n",
    "    Ey_index = 0\n",
    "    while Ex_index < len(Px_UL) and Ey_index < len(Py_UL):\n",
    "        if Px_UL[Ex_index] == Py_UL[Ey_index]:\n",
    "            Exy = []\n",
    "            if P_UL is not None:\n",
    "                for E in range(len(P_UL)):\n",
    "                    if P_UL[E] == Px_UL[Ex_index]:\n",
    "                        Exy = [Px_UL[Ex_index]]\n",
    "            else:\n",
    "                Exy = [Px_UL[Ex_index]]\n",
    "            Pxy_UL.append(Exy)\n",
    "            Ex_index += 1\n",
    "            Ey_index += 1\n",
    "        else:\n",
    "            if Px_UL[Ex_index] > Py_UL[Ey_index]:\n",
    "                Ey_index += 1\n",
    "            else:\n",
    "                Ex_index += 1\n",
    "    return Pxy_UL\n"
   ]
  },
  {
   "cell_type": "code",
   "execution_count": 16,
   "id": "1509a3ac",
   "metadata": {},
   "outputs": [],
   "source": [
    "# brute force\n",
    "def Construct2(P_UL, Px_UL, Py_UL):\n",
    "    Pxy_UL = []\n",
    "    for i in Px_UL:\n",
    "        for j in Py_UL:\n",
    "            if i == j:\n",
    "                Pxy_UL.append(i)\n",
    "    return Pxy_UL\n"
   ]
  },
  {
   "cell_type": "code",
   "execution_count": 182,
   "id": "5dfc976e",
   "metadata": {},
   "outputs": [],
   "source": [
    "def HUI_Miner(P, ULs, minutil):\n",
    "    global frequent_itemsets\n",
    "    for X in ULs:\n",
    "        if len(X.UL) >= minutil:\n",
    "            frequent_itemsets.append([len(X.UL)/len(h_data.keys()), [X.item[0]]])\n",
    "#             print(X.item, len(X.UL)/len(h_data.keys()))\n",
    "            exULs = []\n",
    "            for Y in ULs[ULs.index(X)+1:]:   \n",
    "                X.item + [Y.item[-1]]\n",
    "                exULs.append(UtilityList(X.item + [Y.item[-1]], Construct2(P.UL, X.UL, Y.UL)))\n",
    "            HUI_Miner(X, exULs, minutil)\n"
   ]
  },
  {
   "cell_type": "code",
   "execution_count": 23,
   "id": "c0b55ae9",
   "metadata": {},
   "outputs": [],
   "source": [
    "nn = []\n",
    "for k, v in v_data.items():\n",
    "    nn.append(UtilityList([k], list(set(v_data[k]))))"
   ]
  },
  {
   "cell_type": "code",
   "execution_count": 183,
   "id": "34f23adf",
   "metadata": {
    "scrolled": false
   },
   "outputs": [],
   "source": [
    "# frequent itemset by item merge pproach\n",
    "frequent_itemsets = []\n",
    "HUI_Miner(UtilityList('', None), ULs=nn, minutil=len(h_data.keys())*0.001)"
   ]
  },
  {
   "cell_type": "code",
   "execution_count": 184,
   "id": "a77f9c44",
   "metadata": {
    "scrolled": false
   },
   "outputs": [
    {
     "data": {
      "text/plain": [
       "281"
      ]
     },
     "execution_count": 184,
     "metadata": {},
     "output_type": "execute_result"
    }
   ],
   "source": [
    "# frequent itemset count\n",
    "len(frequent_itemsets)"
   ]
  },
  {
   "cell_type": "code",
   "execution_count": 185,
   "id": "f22e26cd",
   "metadata": {},
   "outputs": [
    {
     "data": {
      "text/plain": [
       "[[0.003178256342813305, ['70072']],\n",
       " [0.0011507479861910242, ['70072']],\n",
       " [0.0012055455093429777, ['3420352']],\n",
       " [0.0011507479861910242, ['135739']],\n",
       " [0.0029864650117814675, ['149674']],\n",
       " [0.003370047673845142, ['70057']],\n",
       " [0.0020549071181982575, ['3223014']],\n",
       " [0.0060003287851389114, ['70415']],\n",
       " [0.0017809195024384899, ['15471068']],\n",
       " [0.0027124773960217, ['14819946']],\n",
       " [0.0013151405556468849, ['14790349']],\n",
       " [0.001643925694558606, ['14671860']],\n",
       " [0.0010959504630390707, ['14671860']],\n",
       " [0.0010685517014630938, ['14671860']],\n",
       " [0.0012603430324949311, ['15181053']],\n",
       " [0.0010411529398871172, ['15201033']],\n",
       " [0.0018905145487423968, ['15192100']],\n",
       " [0.0011507479861910242, ['15192100']],\n",
       " [0.0011233492246150473, ['15192100']],\n",
       " [0.0010411529398871172, ['15192100']],\n",
       " [0.0010411529398871172, ['15452141']],\n",
       " [0.0018357170255904433, ['15455982']],\n",
       " [0.0011507479861910242, ['14921004']],\n",
       " [0.0015069318866787222, ['14481833']],\n",
       " [0.0011233492246150473, ['14481833']],\n",
       " [0.0010685517014630938, ['15352015']],\n",
       " [0.0020549071181982575, ['15157064']],\n",
       " [0.001287741794070908, ['15151088']],\n",
       " [0.0015891281714066525, ['14980086']],\n",
       " [0.001397336840374815, ['14310766']],\n",
       " [0.0020823058797742344, ['15242560']],\n",
       " [0.001178146747767001, ['15103999']],\n",
       " [0.0010411529398871172, ['15455981']],\n",
       " [0.0010685517014630938, ['15104957']],\n",
       " [0.001287741794070908, ['15078912']],\n",
       " [0.0010959504630390707, ['15046030']],\n",
       " [0.0015891281714066525, ['4231589']],\n",
       " [0.0016165269329826292, ['126995']],\n",
       " [0.0011233492246150473, ['8929650']],\n",
       " [0.0014521343635267687, ['15194056']],\n",
       " [0.0015343306482546988, ['15037958']],\n",
       " [0.0011507479861910242, ['15047904']],\n",
       " [0.0014521343635267687, ['14675955']],\n",
       " [0.0011233492246150473, ['15539983']],\n",
       " [0.0010411529398871172, ['6642591']],\n",
       " [0.0015891281714066525, ['3374580']],\n",
       " [0.002685078634445723, ['15051992']],\n",
       " [0.0014521343635267687, ['15240983']],\n",
       " [0.0011507479861910242, ['15331043']],\n",
       " [0.00364403528960491, ['4709595']],\n",
       " [0.0010137541783111403, ['4709595']],\n",
       " [0.003150857581237328, ['26001']],\n",
       " [0.005205764699435586, ['70449']],\n",
       " [0.0012603430324949311, ['70449']],\n",
       " [0.0012329442709189545, ['70449']],\n",
       " [0.0016165269329826292, ['70449']],\n",
       " [0.0047399857526439805, ['23004']],\n",
       " [0.0013425393172228615, ['23004']],\n",
       " [0.0016987232177105595, ['23004']],\n",
       " [0.0010411529398871172, ['23004']],\n",
       " [0.001178146747767001, ['23004']],\n",
       " [0.0010685517014630938, ['23004']],\n",
       " [0.001397336840374815, ['1747']],\n",
       " [0.00457559318318812, ['70448']],\n",
       " [0.0012055455093429777, ['70448']],\n",
       " [0.0013699380787988383, ['70448']],\n",
       " [0.0027398761575976767, ['88870']],\n",
       " [0.0011507479861910242, ['3246369']],\n",
       " [0.0022740972108060715, ['3336149']],\n",
       " [0.0012329442709189545, ['3336149']],\n",
       " [0.0010411529398871172, ['3336149']],\n",
       " [0.0011507479861910242, ['3336149']],\n",
       " [0.0015617294098306757, ['135384']],\n",
       " [0.0010137541783111403, ['135251']],\n",
       " [0.0024110910186859553, ['133402']],\n",
       " [0.0015891281714066525, ['126597']],\n",
       " [0.002822072442325607, ['1697']],\n",
       " [0.0015617294098306757, ['1697']],\n",
       " [0.0012329442709189545, ['1697']],\n",
       " [0.0010685517014630938, ['1697']],\n",
       " [0.0013151405556468849, ['1697']],\n",
       " [0.0010411529398871172, ['70298']],\n",
       " [0.004822182037371911, ['1708']],\n",
       " [0.0016987232177105595, ['1708']],\n",
       " [0.0010411529398871172, ['1708']],\n",
       " [0.0010685517014630938, ['1708']],\n",
       " [0.0010137541783111403, ['1708']],\n",
       " [0.0014247356019507918, ['1708']],\n",
       " [0.002602882349717793, ['15058972']],\n",
       " [0.00186311578716642, ['15288972']],\n",
       " [0.0010411529398871172, ['133563']],\n",
       " [0.0021645021645021645, ['1755']],\n",
       " [0.0012055455093429777, ['1755']],\n",
       " [0.0081374321880651, ['70509']],\n",
       " [0.0012329442709189545, ['70509']],\n",
       " [0.0010959504630390707, ['70509']],\n",
       " [0.0010411529398871172, ['70509']],\n",
       " [0.0020549071181982575, ['70509']],\n",
       " [0.0013151405556468849, ['70509']],\n",
       " [0.001178146747767001, ['70509']],\n",
       " [0.0010411529398871172, ['70509']],\n",
       " [0.0020823058797742344, ['70509']],\n",
       " [0.0010959504630390707, ['70509']],\n",
       " [0.0010411529398871172, ['70509']],\n",
       " [0.0015891281714066525, ['70509']],\n",
       " [0.0012329442709189545, ['70509']],\n",
       " [0.0016713244561345827, ['135493']],\n",
       " [0.0012603430324949311, ['135493']],\n",
       " [0.0010411529398871172, ['135493']],\n",
       " [0.0010411529398871172, ['87141']],\n",
       " [0.0010685517014630938, ['150002']],\n",
       " [0.0011233492246150473, ['3114083']],\n",
       " [0.0013151405556468849, ['2797101']],\n",
       " [0.002822072442325607, ['70447']],\n",
       " [0.0014247356019507918, ['70447']],\n",
       " [0.0010959504630390707, ['134130']],\n",
       " [0.0012329442709189545, ['1724']],\n",
       " [0.0011507479861910242, ['133405']],\n",
       " [0.0012603430324949311, ['135492']],\n",
       " [0.0010685517014630938, ['135492']],\n",
       " [0.0010137541783111403, ['125765']],\n",
       " [0.0021371034029261876, ['1696']],\n",
       " [0.007890843333881308, ['15280990']],\n",
       " [0.0015343306482546988, ['15280990']],\n",
       " [0.0013151405556468849, ['3328645']],\n",
       " [0.0010411529398871172, ['135507']],\n",
       " [0.003534440243301003, ['1698']],\n",
       " [0.0014795331251027453, ['1698']],\n",
       " [0.0010411529398871172, ['1698']],\n",
       " [0.0010137541783111403, ['3298637']],\n",
       " [0.0020275083566222807, ['126542']],\n",
       " [0.0012055455093429777, ['126109']],\n",
       " [0.003260452627541235, ['1707']],\n",
       " [0.0023836922571099785, ['1746']],\n",
       " [0.0010411529398871172, ['1301771']],\n",
       " [0.005644144884651214, ['15288975']],\n",
       " [0.0014247356019507918, ['183067']],\n",
       " [0.001287741794070908, ['14883083']],\n",
       " [0.0021645021645021645, ['135789']],\n",
       " [0.001178146747767001, ['135789']],\n",
       " [0.0017261219792865361, ['49046']],\n",
       " [0.0014795331251027453, ['3201502']],\n",
       " [0.00457559318318812, ['88411']],\n",
       " [0.0010959504630390707, ['88411']],\n",
       " [0.0012055455093429777, ['88411']],\n",
       " [0.0011507479861910242, ['88411']],\n",
       " [0.0011507479861910242, ['70274']],\n",
       " [0.001397336840374815, ['88475']],\n",
       " [0.0015069318866787222, ['135505']],\n",
       " [0.003616636528028933, ['87945']],\n",
       " [0.0014795331251027453, ['135495']],\n",
       " [0.001178146747767001, ['134857']],\n",
       " [0.0013699380787988383, ['70068']],\n",
       " [0.0013699380787988383, ['148744']],\n",
       " [0.0020275083566222807, ['1756']],\n",
       " [0.002931667488629514, ['1754']],\n",
       " [0.0012603430324949311, ['3250538']],\n",
       " [0.001397336840374815, ['3326167']],\n",
       " [0.0015069318866787222, ['88061']],\n",
       " [0.0021371034029261876, ['88443']],\n",
       " [0.0011233492246150473, ['149991']],\n",
       " [0.0014795331251027453, ['111064']],\n",
       " [0.0015343306482546988, ['70511']],\n",
       " [0.002602882349717793, ['1699']],\n",
       " [0.0010685517014630938, ['88284']],\n",
       " [0.0010959504630390707, ['14870535']],\n",
       " [0.0010959504630390707, ['14870535']],\n",
       " [0.0019179133103183737, ['15406993']],\n",
       " [0.002438489780261932, ['15306063']],\n",
       " [0.001643925694558606, ['15307088']],\n",
       " [0.0016165269329826292, ['15220033']],\n",
       " [0.0015343306482546988, ['15283965']],\n",
       " [0.0010411529398871172, ['15404968']],\n",
       " [0.0015617294098306757, ['70324']],\n",
       " [0.0015617294098306757, ['14752201']],\n",
       " [0.0015617294098306757, ['14752201']],\n",
       " [0.0010411529398871172, ['14816056']],\n",
       " [0.003534440243301003, ['70589']],\n",
       " [0.001643925694558606, ['3216651']],\n",
       " [0.004301605567428353, ['15286972']],\n",
       " [0.005150967176283632, ['15189014']],\n",
       " [0.0012055455093429777, ['135520']],\n",
       " [0.0010137541783111403, ['2205849']],\n",
       " [0.0018357170255904433, ['15461984']],\n",
       " [0.0010685517014630938, ['70066']],\n",
       " [0.0018905145487423968, ['87118']],\n",
       " [0.0020275083566222807, ['125741']],\n",
       " [0.003315250150693189, ['15288976']],\n",
       " [0.0027672749191736535, ['70450']],\n",
       " [0.0013699380787988383, ['14962884']],\n",
       " [0.0011233492246150473, ['15221037']],\n",
       " [0.0011507479861910242, ['3249478']],\n",
       " [0.0018083182640144665, ['70126']],\n",
       " [0.0015343306482546988, ['15352010']],\n",
       " [0.003534440243301003, ['15419008']],\n",
       " [0.0012329442709189545, ['3372437']],\n",
       " [0.0010959504630390707, ['138455']],\n",
       " [0.0012603430324949311, ['3417453']],\n",
       " [0.0015069318866787222, ['88676']],\n",
       " [0.0013699380787988383, ['149890']],\n",
       " [0.002493287303413886, ['70128']],\n",
       " [0.003397446435421119, ['88444']],\n",
       " [0.0013425393172228615, ['148735']],\n",
       " [0.0011507479861910242, ['70333']],\n",
       " [0.0012329442709189545, ['1713']],\n",
       " [0.0010411529398871172, ['135501']],\n",
       " [0.001753520740862513, ['87120']],\n",
       " [0.0011233492246150473, ['149987']],\n",
       " [0.0012603430324949311, ['87496']],\n",
       " [0.0018905145487423968, ['88623']],\n",
       " [0.0012603430324949311, ['88623']],\n",
       " [0.0013425393172228615, ['126383']],\n",
       " [0.001178146747767001, ['126282']],\n",
       " [0.0010959504630390707, ['70127']],\n",
       " [0.0013425393172228615, ['126993']],\n",
       " [0.0012329442709189545, ['135344']],\n",
       " [0.0010959504630390707, ['3249501']],\n",
       " [0.0010411529398871172, ['88477']],\n",
       " [0.0010137541783111403, ['8713587']],\n",
       " [0.0010137541783111403, ['88518']],\n",
       " [0.0012329442709189545, ['3216486']],\n",
       " [0.0013151405556468849, ['14846430']],\n",
       " [0.0013425393172228615, ['133024']],\n",
       " [0.0012055455093429777, ['135506']],\n",
       " [0.0010411529398871172, ['15031996']],\n",
       " [0.0015069318866787222, ['3204325']],\n",
       " [0.001643925694558606, ['14762160']],\n",
       " [0.0014247356019507918, ['70349']],\n",
       " [0.0010137541783111403, ['3333283']],\n",
       " [0.0010411529398871172, ['3307913']],\n",
       " [0.0013151405556468849, ['3328643']],\n",
       " [0.0010411529398871172, ['133449']],\n",
       " [0.0022466984492300946, ['88445']],\n",
       " [0.0012329442709189545, ['3249375']],\n",
       " [0.0015069318866787222, ['15189015']],\n",
       " [0.0010137541783111403, ['149722']],\n",
       " [0.0012055455093429777, ['77029']],\n",
       " [0.0011233492246150473, ['88675']],\n",
       " [0.0011507479861910242, ['3326430']],\n",
       " [0.0013699380787988383, ['70334']],\n",
       " [0.0012055455093429777, ['1748']],\n",
       " [0.0012603430324949311, ['2165800']],\n",
       " [0.002685078634445723, ['14782210']],\n",
       " [0.0010137541783111403, ['88563']],\n",
       " [0.0011507479861910242, ['14932035']],\n",
       " [0.0013425393172228615, ['3365271']],\n",
       " [0.0012603430324949311, ['15278976']],\n",
       " [0.002465888541837909, ['15336088']],\n",
       " [0.002602882349717793, ['14929876']],\n",
       " [0.0010959504630390707, ['14929876']],\n",
       " [0.0031234588196613513, ['14782215']],\n",
       " [0.0014247356019507918, ['14782215']],\n",
       " [0.005315359745739492, ['14790248']],\n",
       " [0.002822072442325607, ['15336004']],\n",
       " [0.0016987232177105595, ['15461985']],\n",
       " [0.0016165269329826292, ['15355971']],\n",
       " [0.003041262534933421, ['14845991']],\n",
       " [0.0010685517014630938, ['15225133']],\n",
       " [0.002465888541837909, ['15549964']],\n",
       " [0.0013151405556468849, ['14436753']],\n",
       " [0.0012329442709189545, ['149778']],\n",
       " [0.0012603430324949311, ['14766878']],\n",
       " [0.0020275083566222807, ['14988891']],\n",
       " [0.0011507479861910242, ['15367960']],\n",
       " [0.0012055455093429777, ['3250360']],\n",
       " [0.001397336840374815, ['88622']],\n",
       " [0.0015343306482546988, ['143456']],\n",
       " [0.001287741794070908, ['14988996']],\n",
       " [0.0015343306482546988, ['15220039']],\n",
       " [0.0017809195024384899, ['14760944']],\n",
       " [0.0011233492246150473, ['14876857']],\n",
       " [0.001287741794070908, ['3298569']],\n",
       " [0.001178146747767001, ['2208002']],\n",
       " [0.0010959504630390707, ['12686591']],\n",
       " [0.0010411529398871172, ['135494']],\n",
       " [0.0010137541783111403, ['12560591']],\n",
       " [0.0010411529398871172, ['2663032']],\n",
       " [0.0010959504630390707, ['3387711']],\n",
       " [0.001178146747767001, ['3365652']],\n",
       " [0.0012329442709189545, ['14767916']],\n",
       " [0.001287741794070908, ['15230124']]]"
      ]
     },
     "execution_count": 185,
     "metadata": {},
     "output_type": "execute_result"
    }
   ],
   "source": [
    "frequent_itemsets"
   ]
  },
  {
   "cell_type": "code",
   "execution_count": 187,
   "id": "920a0b3d",
   "metadata": {},
   "outputs": [],
   "source": [
    "from mlxtend.preprocessing import TransactionEncoder\n",
    "te = TransactionEncoder()\n",
    "te_ary = te.fit(list(h_data.values())).transform(list(h_data.values()))\n",
    "df2 = pd.DataFrame(te_ary, columns=te.columns_)\n",
    "frequent_itemsets = apriori(df2, min_support=0.001, use_colnames=True)\n",
    "\n",
    "rules = association_rules(frequent_itemsets, metric=\"confidence\", min_threshold=0.7)"
   ]
  },
  {
   "cell_type": "code",
   "execution_count": 188,
   "id": "7ba6edb2",
   "metadata": {
    "scrolled": true
   },
   "outputs": [
    {
     "data": {
      "text/html": [
       "<div>\n",
       "<style scoped>\n",
       "    .dataframe tbody tr th:only-of-type {\n",
       "        vertical-align: middle;\n",
       "    }\n",
       "\n",
       "    .dataframe tbody tr th {\n",
       "        vertical-align: top;\n",
       "    }\n",
       "\n",
       "    .dataframe thead th {\n",
       "        text-align: right;\n",
       "    }\n",
       "</style>\n",
       "<table border=\"1\" class=\"dataframe\">\n",
       "  <thead>\n",
       "    <tr style=\"text-align: right;\">\n",
       "      <th></th>\n",
       "      <th>support</th>\n",
       "      <th>itemsets</th>\n",
       "    </tr>\n",
       "  </thead>\n",
       "  <tbody>\n",
       "    <tr>\n",
       "      <th>0</th>\n",
       "      <td>0.001480</td>\n",
       "      <td>(111064)</td>\n",
       "    </tr>\n",
       "    <tr>\n",
       "      <th>1</th>\n",
       "      <td>0.001014</td>\n",
       "      <td>(12560591)</td>\n",
       "    </tr>\n",
       "    <tr>\n",
       "      <th>2</th>\n",
       "      <td>0.002028</td>\n",
       "      <td>(125741)</td>\n",
       "    </tr>\n",
       "    <tr>\n",
       "      <th>3</th>\n",
       "      <td>0.001014</td>\n",
       "      <td>(125765)</td>\n",
       "    </tr>\n",
       "    <tr>\n",
       "      <th>4</th>\n",
       "      <td>0.001206</td>\n",
       "      <td>(126109)</td>\n",
       "    </tr>\n",
       "    <tr>\n",
       "      <th>...</th>\n",
       "      <td>...</td>\n",
       "      <td>...</td>\n",
       "    </tr>\n",
       "    <tr>\n",
       "      <th>276</th>\n",
       "      <td>0.001233</td>\n",
       "      <td>(70509, 88411, 1697)</td>\n",
       "    </tr>\n",
       "    <tr>\n",
       "      <th>277</th>\n",
       "      <td>0.001041</td>\n",
       "      <td>(70509, 1698, 23004)</td>\n",
       "    </tr>\n",
       "    <tr>\n",
       "      <th>278</th>\n",
       "      <td>0.001315</td>\n",
       "      <td>(70509, 88411, 1698)</td>\n",
       "    </tr>\n",
       "    <tr>\n",
       "      <th>279</th>\n",
       "      <td>0.001041</td>\n",
       "      <td>(70509, 88444, 1708)</td>\n",
       "    </tr>\n",
       "    <tr>\n",
       "      <th>280</th>\n",
       "      <td>0.001041</td>\n",
       "      <td>(70509, 3336149, 88411)</td>\n",
       "    </tr>\n",
       "  </tbody>\n",
       "</table>\n",
       "<p>281 rows × 2 columns</p>\n",
       "</div>"
      ],
      "text/plain": [
       "      support                 itemsets\n",
       "0    0.001480                 (111064)\n",
       "1    0.001014               (12560591)\n",
       "2    0.002028                 (125741)\n",
       "3    0.001014                 (125765)\n",
       "4    0.001206                 (126109)\n",
       "..        ...                      ...\n",
       "276  0.001233     (70509, 88411, 1697)\n",
       "277  0.001041     (70509, 1698, 23004)\n",
       "278  0.001315     (70509, 88411, 1698)\n",
       "279  0.001041     (70509, 88444, 1708)\n",
       "280  0.001041  (70509, 3336149, 88411)\n",
       "\n",
       "[281 rows x 2 columns]"
      ]
     },
     "execution_count": 188,
     "metadata": {},
     "output_type": "execute_result"
    }
   ],
   "source": [
    "frequent_itemsets"
   ]
  },
  {
   "cell_type": "code",
   "execution_count": 148,
   "id": "75a2f290",
   "metadata": {},
   "outputs": [
    {
     "name": "stdout",
     "output_type": "stream",
     "text": [
      "         antecedents consequents  antecedent support  consequent support  \\\n",
      "0           (135492)     (70509)            0.001260            0.008137   \n",
      "1           (135492)     (88411)            0.001260            0.004576   \n",
      "2           (135493)     (70509)            0.001671            0.008137   \n",
      "3           (135493)     (88411)            0.001671            0.004576   \n",
      "4         (14481833)  (15157064)            0.001507            0.002055   \n",
      "5         (14675955)  (15192100)            0.001452            0.001891   \n",
      "6         (14760944)  (14752201)            0.001781            0.001562   \n",
      "7         (14752201)  (14760944)            0.001562            0.001781   \n",
      "8         (14876857)  (14870535)            0.001123            0.001096   \n",
      "9         (14870535)  (14876857)            0.001096            0.001123   \n",
      "10        (14980086)  (15192100)            0.001589            0.001891   \n",
      "11        (15194056)  (15192100)            0.001452            0.001891   \n",
      "12           (88676)     (88411)            0.001507            0.004576   \n",
      "13           (88622)     (88623)            0.001397            0.001891   \n",
      "14   (70509, 135493)     (88411)            0.001233            0.004576   \n",
      "15   (135493, 88411)     (70509)            0.001260            0.008137   \n",
      "16     (70509, 1697)     (88411)            0.001562            0.004576   \n",
      "17     (88411, 1697)     (70509)            0.001315            0.008137   \n",
      "18     (1698, 23004)     (70509)            0.001178            0.008137   \n",
      "19     (88411, 1698)     (70509)            0.001480            0.008137   \n",
      "20     (88444, 1708)     (70509)            0.001425            0.008137   \n",
      "21  (70509, 3336149)     (88411)            0.001233            0.004576   \n",
      "22  (3336149, 88411)     (70509)            0.001151            0.008137   \n",
      "\n",
      "     support  confidence        lift  leverage  conviction  zhangs_metric  \n",
      "0   0.001041    0.826087  101.516908  0.001031    5.703210       0.991399  \n",
      "1   0.001069    0.847826  185.293153  0.001063    6.541360       0.995858  \n",
      "2   0.001233    0.737705   90.655738  0.001219    3.781476       0.990625  \n",
      "3   0.001260    0.754098  164.808874  0.001253    4.048059       0.995596  \n",
      "4   0.001123    0.745455  362.768000  0.001120    3.920499       0.998748  \n",
      "5   0.001041    0.716981  379.251846  0.001038    3.526654       0.998814  \n",
      "6   0.001562    0.876923  561.507692  0.001559    8.112311       1.000000  \n",
      "7   0.001562    1.000000  561.507692  0.001559         inf       0.999780  \n",
      "8   0.001096    0.975610  890.195122  0.001095   40.955066       1.000000  \n",
      "9   0.001096    1.000000  890.195122  0.001095         inf       0.999973  \n",
      "10  0.001151    0.724138  383.037481  0.001148    3.618147       0.998977  \n",
      "11  0.001123    0.773585  409.192781  0.001121    4.408317       0.999007  \n",
      "12  0.001206    0.800000  174.840719  0.001199    4.977122       0.995781  \n",
      "13  0.001260    0.901961  477.098039  0.001258   10.180717       0.999300  \n",
      "14  0.001096    0.888889  194.267465  0.001090    8.958820       0.996081  \n",
      "15  0.001096    0.869565  106.859903  0.001086    7.604280       0.991892  \n",
      "16  0.001233    0.789474  172.540183  0.001226    4.728266       0.995759  \n",
      "17  0.001233    0.937500  115.208333  0.001222   15.869801       0.992626  \n",
      "18  0.001041    0.883721  108.599483  0.001032    8.530018       0.991961  \n",
      "19  0.001315    0.888889  109.234568  0.001303    8.926763       0.992314  \n",
      "20  0.001041    0.730769   89.803419  0.001030    3.684061       0.990275  \n",
      "21  0.001041    0.844444  184.554092  0.001036    6.399157       0.995809  \n",
      "22  0.001041    0.904762  111.185185  0.001032   10.414557       0.992148  \n"
     ]
    }
   ],
   "source": [
    "print(rules)"
   ]
  },
  {
   "cell_type": "code",
   "execution_count": 149,
   "id": "23d0fa69",
   "metadata": {
    "scrolled": true
   },
   "outputs": [
    {
     "data": {
      "text/plain": [
       "0             (135492)\n",
       "1             (135492)\n",
       "2             (135493)\n",
       "3             (135493)\n",
       "4           (14481833)\n",
       "5           (14675955)\n",
       "6           (14760944)\n",
       "7           (14752201)\n",
       "8           (14876857)\n",
       "9           (14870535)\n",
       "10          (14980086)\n",
       "11          (15194056)\n",
       "12             (88676)\n",
       "13             (88622)\n",
       "14     (70509, 135493)\n",
       "15     (135493, 88411)\n",
       "16       (70509, 1697)\n",
       "17       (88411, 1697)\n",
       "18       (1698, 23004)\n",
       "19       (88411, 1698)\n",
       "20       (88444, 1708)\n",
       "21    (70509, 3336149)\n",
       "22    (3336149, 88411)\n",
       "Name: antecedents, dtype: object"
      ]
     },
     "execution_count": 149,
     "metadata": {},
     "output_type": "execute_result"
    }
   ],
   "source": [
    "rules['antecedents']"
   ]
  },
  {
   "cell_type": "code",
   "execution_count": 150,
   "id": "bd43224f",
   "metadata": {
    "scrolled": true
   },
   "outputs": [
    {
     "data": {
      "text/plain": [
       "0        (70509)\n",
       "1        (88411)\n",
       "2        (70509)\n",
       "3        (88411)\n",
       "4     (15157064)\n",
       "5     (15192100)\n",
       "6     (14752201)\n",
       "7     (14760944)\n",
       "8     (14870535)\n",
       "9     (14876857)\n",
       "10    (15192100)\n",
       "11    (15192100)\n",
       "12       (88411)\n",
       "13       (88623)\n",
       "14       (88411)\n",
       "15       (70509)\n",
       "16       (88411)\n",
       "17       (70509)\n",
       "18       (70509)\n",
       "19       (70509)\n",
       "20       (70509)\n",
       "21       (88411)\n",
       "22       (70509)\n",
       "Name: consequents, dtype: object"
      ]
     },
     "execution_count": 150,
     "metadata": {},
     "output_type": "execute_result"
    }
   ],
   "source": [
    "rules[\"consequents\"]"
   ]
  },
  {
   "cell_type": "code",
   "execution_count": 151,
   "id": "19006e42",
   "metadata": {},
   "outputs": [],
   "source": [
    "rules[\"antecedents\"] = rules[\"antecedents\"].apply(lambda x: ', '.join(list(x))).astype(\"unicode\")\n",
    "rules[\"consequents\"] = rules[\"consequents\"].apply(lambda x: ', '.join(list(x))).astype(\"unicode\")"
   ]
  },
  {
   "cell_type": "code",
   "execution_count": 160,
   "id": "5c052002",
   "metadata": {},
   "outputs": [],
   "source": [
    "# write file\n",
    "import xlsxwriter\n",
    "workbook = xlsxwriter.Workbook('rule.xlsx')\n",
    "worksheet = workbook.add_worksheet()\n",
    "worksheet.write(0, 0, \"antecedents\")\n",
    "worksheet.write(0, 1, \"consequents\")\n",
    "row = 1\n",
    "for i, j in zip(rules['antecedents'], rules['consequents']):\n",
    "    worksheet.write(row, 0, i)\n",
    "    worksheet.write(row, 1, j)\n",
    "    row+=1\n",
    "    \n",
    "workbook.close()"
   ]
  },
  {
   "cell_type": "code",
   "execution_count": 161,
   "id": "8adf3abd",
   "metadata": {
    "scrolled": true
   },
   "outputs": [
    {
     "data": {
      "text/html": [
       "<div>\n",
       "<style scoped>\n",
       "    .dataframe tbody tr th:only-of-type {\n",
       "        vertical-align: middle;\n",
       "    }\n",
       "\n",
       "    .dataframe tbody tr th {\n",
       "        vertical-align: top;\n",
       "    }\n",
       "\n",
       "    .dataframe thead th {\n",
       "        text-align: right;\n",
       "    }\n",
       "</style>\n",
       "<table border=\"1\" class=\"dataframe\">\n",
       "  <thead>\n",
       "    <tr style=\"text-align: right;\">\n",
       "      <th></th>\n",
       "      <th>antecedents</th>\n",
       "      <th>consequents</th>\n",
       "    </tr>\n",
       "  </thead>\n",
       "  <tbody>\n",
       "    <tr>\n",
       "      <th>0</th>\n",
       "      <td>135492</td>\n",
       "      <td>70509</td>\n",
       "    </tr>\n",
       "    <tr>\n",
       "      <th>1</th>\n",
       "      <td>135492</td>\n",
       "      <td>88411</td>\n",
       "    </tr>\n",
       "    <tr>\n",
       "      <th>2</th>\n",
       "      <td>135493</td>\n",
       "      <td>70509</td>\n",
       "    </tr>\n",
       "    <tr>\n",
       "      <th>3</th>\n",
       "      <td>135493</td>\n",
       "      <td>88411</td>\n",
       "    </tr>\n",
       "    <tr>\n",
       "      <th>4</th>\n",
       "      <td>14481833</td>\n",
       "      <td>15157064</td>\n",
       "    </tr>\n",
       "  </tbody>\n",
       "</table>\n",
       "</div>"
      ],
      "text/plain": [
       "  antecedents  consequents\n",
       "0      135492        70509\n",
       "1      135492        88411\n",
       "2      135493        70509\n",
       "3      135493        88411\n",
       "4    14481833     15157064"
      ]
     },
     "execution_count": 161,
     "metadata": {},
     "output_type": "execute_result"
    }
   ],
   "source": [
    "# read file\n",
    "df_rule = pd.read_excel('rule.xlsx')\n",
    "df_rule.head()"
   ]
  },
  {
   "cell_type": "code",
   "execution_count": 186,
   "id": "0129a3f5",
   "metadata": {},
   "outputs": [
    {
     "data": {
      "text/plain": [
       "[70509]"
      ]
     },
     "execution_count": 186,
     "metadata": {},
     "output_type": "execute_result"
    }
   ],
   "source": [
    "# input product to find the right hand side itemsets\n",
    "def find_consequents(antecedents, df):\n",
    "    li = []\n",
    "    for k, v in zip(df_rule[\"antecedents\"], df_rule[\"consequents\"]):\n",
    "        if antecedents in k:\n",
    "            li.append(v)\n",
    "    return list(set(li))\n",
    "    \n",
    "\n",
    "find_consequents(\"3336149, 88411\", df_rule)"
   ]
  },
  {
   "cell_type": "code",
   "execution_count": 199,
   "id": "205db3e7",
   "metadata": {},
   "outputs": [],
   "source": [
    "# support count versis rules base on confidence=0.7, \n",
    "min_support = [0.001, 0.0011, 0.0012, 0.0013, 0.0014]\n",
    "rules_count = []\n",
    "elapsed_time = []\n",
    "for i in min_support:\n",
    "    start_time = time.time()\n",
    "    te = TransactionEncoder()\n",
    "    te_ary = te.fit(list(h_data.values())).transform(list(h_data.values()))\n",
    "    df2 = pd.DataFrame(te_ary, columns=te.columns_)\n",
    "    frequent_itemsets = apriori(df2, min_support=i, use_colnames=True)\n",
    "    rules = association_rules(frequent_itemsets, metric=\"confidence\", min_threshold=0.7)\n",
    "    elapsed_time.append(time.time()-start_time)\n",
    "    rules_count.append(len(list(rules['antecedents'])))"
   ]
  },
  {
   "cell_type": "code",
   "execution_count": 200,
   "id": "a77ed9b0",
   "metadata": {},
   "outputs": [
    {
     "data": {
      "text/plain": [
       "[23, 12, 9, 3, 2]"
      ]
     },
     "execution_count": 200,
     "metadata": {},
     "output_type": "execute_result"
    }
   ],
   "source": [
    "rules_count"
   ]
  },
  {
   "cell_type": "code",
   "execution_count": 201,
   "id": "54e83b6b",
   "metadata": {},
   "outputs": [
    {
     "data": {
      "text/plain": [
       "[11.58024001121521,\n",
       " 7.789711236953735,\n",
       " 5.9582319259643555,\n",
       " 4.186016082763672,\n",
       " 3.178170680999756]"
      ]
     },
     "execution_count": 201,
     "metadata": {},
     "output_type": "execute_result"
    }
   ],
   "source": [
    "# elapsed time (second)\n",
    "elapsed_time"
   ]
  },
  {
   "cell_type": "code",
   "execution_count": 206,
   "id": "757a7f07",
   "metadata": {
    "scrolled": true
   },
   "outputs": [],
   "source": [
    "# confidence versis rules base on support=0.001, \n",
    "confidence = [0.5, 0.55, 0.6, 0.65, 0.7]\n",
    "rules_count = []\n",
    "elapsed_time = []\n",
    "workbook = xlsxwriter.Workbook('rule2.xlsx')\n",
    "worksheet = workbook.add_worksheet()\n",
    "\n",
    "for k in range(len(confidence)):\n",
    "    start_time = time.time()\n",
    "    te = TransactionEncoder()\n",
    "    te_ary = te.fit(list(h_data.values())).transform(list(h_data.values()))\n",
    "    df2 = pd.DataFrame(te_ary, columns=te.columns_)\n",
    "    frequent_itemsets = apriori(df2, min_support=0.001, use_colnames=True)\n",
    "    rules = association_rules(frequent_itemsets, metric=\"confidence\", min_threshold=confidence[k])\n",
    "    elapsed_time.append(time.time()-start_time)\n",
    "    rules_count.append(len(list(rules['antecedents'])))\n",
    "    \n",
    "    \n",
    "    rules[\"antecedents\"] = rules[\"antecedents\"].apply(lambda x: ', '.join(list(x))).astype(\"unicode\")\n",
    "    rules[\"consequents\"] = rules[\"consequents\"].apply(lambda x: ', '.join(list(x))).astype(\"unicode\")\n",
    "    worksheet.write(0, k*2, \"antecedents\"+str(confidence[k]))\n",
    "    worksheet.write(0, k*2+1, \"consequents\"+str(confidence[k]))\n",
    "    row = 1\n",
    "    for i, j in zip(rules['antecedents'], rules['consequents']):\n",
    "        worksheet.write(row, k*2, i)\n",
    "        worksheet.write(row, k*2+1, j)\n",
    "        row+=1\n",
    "    \n",
    "workbook.close()"
   ]
  },
  {
   "cell_type": "code",
   "execution_count": 207,
   "id": "1f2ea215",
   "metadata": {},
   "outputs": [
    {
     "data": {
      "text/plain": [
       "[57, 48, 39, 31, 23]"
      ]
     },
     "execution_count": 207,
     "metadata": {},
     "output_type": "execute_result"
    }
   ],
   "source": [
    "rules_count"
   ]
  },
  {
   "cell_type": "code",
   "execution_count": 208,
   "id": "34f4cdc8",
   "metadata": {},
   "outputs": [
    {
     "data": {
      "text/plain": [
       "[11.331083059310913,\n",
       " 11.383166313171387,\n",
       " 11.297866106033325,\n",
       " 11.399392127990723,\n",
       " 11.322789669036865]"
      ]
     },
     "execution_count": 208,
     "metadata": {},
     "output_type": "execute_result"
    }
   ],
   "source": [
    "elapsed_time"
   ]
  },
  {
   "cell_type": "code",
   "execution_count": 232,
   "id": "907eb92e",
   "metadata": {
    "scrolled": false
   },
   "outputs": [
    {
     "name": "stdout",
     "output_type": "stream",
     "text": [
      "[['135493', '3336149', '1698', '1697', '1708', '88444', '88411', '23004'], ['1698', '1708', '1697', '88444', '88411'], ['88444', '88411', '1708', '1698'], ['88411', '1708'], [88411.0]]\n",
      "Product count: [8, 5, 4, 2, 1]\n"
     ]
    }
   ],
   "source": [
    "# confidence versis recommendation product\n",
    "df_rule2 = pd.read_excel('rule2.xlsx')\n",
    "df_rule2.head()\n",
    "\n",
    "def find_consequents2(antecedents, df, confidence):\n",
    "    li = []\n",
    "    for i in confidence:\n",
    "        li2 = []\n",
    "        for k, v in zip(df[\"antecedents\"+str(i)].dropna(), df[\"consequents\"+str(i)].dropna()):\n",
    "            if antecedents in k:\n",
    "                li2.append(v)\n",
    "        li.append(list(set(li2)))\n",
    "    return li\n",
    "\n",
    "confidence = [0.5, 0.55, 0.6, 0.65, 0.7]\n",
    "product_count = find_consequents2(\"70509\", df_rule2, confidence)\n",
    "print(product_count)\n",
    "print(\"Product count:\", [len(x) for x in product_count])"
   ]
  },
  {
   "cell_type": "code",
   "execution_count": 234,
   "id": "2c2d25d4",
   "metadata": {},
   "outputs": [],
   "source": [
    "from mlxtend.frequent_patterns import fpgrowth\n",
    "\n",
    "frequent_itemsets = fpgrowth(df2, min_support=0.001, use_colnames=True)\n",
    "rules = association_rules(frequent_itemsets, metric=\"confidence\", min_threshold=0.7)"
   ]
  },
  {
   "cell_type": "code",
   "execution_count": 235,
   "id": "1a7f485b",
   "metadata": {},
   "outputs": [],
   "source": [
    "# support count versis rules base on confidence=0.7 by fpgrowth\n",
    "min_support = [0.001, 0.0011, 0.0012, 0.0013, 0.0014]\n",
    "rules_count = []\n",
    "elapsed_time = []\n",
    "for i in min_support:\n",
    "    start_time = time.time()\n",
    "    te = TransactionEncoder()\n",
    "    te_ary = te.fit(list(h_data.values())).transform(list(h_data.values()))\n",
    "    df2 = pd.DataFrame(te_ary, columns=te.columns_)\n",
    "    frequent_itemsets = fpgrowth(df2, min_support=i, use_colnames=True)\n",
    "    rules = association_rules(frequent_itemsets, metric=\"confidence\", min_threshold=0.7)\n",
    "    elapsed_time.append(time.time()-start_time)\n",
    "    rules_count.append(len(list(rules['antecedents'])))"
   ]
  },
  {
   "cell_type": "code",
   "execution_count": 236,
   "id": "5cadb0ed",
   "metadata": {
    "scrolled": true
   },
   "outputs": [
    {
     "data": {
      "text/plain": [
       "[23, 12, 9, 3, 2]"
      ]
     },
     "execution_count": 236,
     "metadata": {},
     "output_type": "execute_result"
    }
   ],
   "source": [
    "# fp growth\n",
    "rules_count"
   ]
  },
  {
   "cell_type": "code",
   "execution_count": 237,
   "id": "9af60f04",
   "metadata": {
    "scrolled": false
   },
   "outputs": [
    {
     "data": {
      "text/plain": [
       "[1.1289830207824707,\n",
       " 1.15592360496521,\n",
       " 1.2658748626708984,\n",
       " 1.1400258541107178,\n",
       " 1.149949073791504]"
      ]
     },
     "execution_count": 237,
     "metadata": {},
     "output_type": "execute_result"
    }
   ],
   "source": [
    "elapsed_time"
   ]
  },
  {
   "cell_type": "code",
   "execution_count": 238,
   "id": "1a9843ef",
   "metadata": {},
   "outputs": [],
   "source": [
    "# confidence versis rules base on support=0.001 by fpgrowth \n",
    "confidence = [0.5, 0.55, 0.6, 0.65, 0.7]\n",
    "rules_count = []\n",
    "elapsed_time = []\n",
    "for i in confidence:\n",
    "    start_time = time.time()\n",
    "    te = TransactionEncoder()\n",
    "    te_ary = te.fit(list(h_data.values())).transform(list(h_data.values()))\n",
    "    df2 = pd.DataFrame(te_ary, columns=te.columns_)\n",
    "    frequent_itemsets = fpgrowth(df2, min_support=0.001, use_colnames=True)\n",
    "    rules = association_rules(frequent_itemsets, metric=\"confidence\", min_threshold=i)\n",
    "    elapsed_time.append(time.time()-start_time)\n",
    "    rules_count.append(len(list(rules['antecedents'])))"
   ]
  },
  {
   "cell_type": "code",
   "execution_count": 239,
   "id": "073c6f82",
   "metadata": {},
   "outputs": [
    {
     "data": {
      "text/plain": [
       "[57, 48, 39, 31, 23]"
      ]
     },
     "execution_count": 239,
     "metadata": {},
     "output_type": "execute_result"
    }
   ],
   "source": [
    "rules_count"
   ]
  },
  {
   "cell_type": "code",
   "execution_count": 240,
   "id": "7f208f38",
   "metadata": {},
   "outputs": [
    {
     "data": {
      "text/plain": [
       "[1.1249439716339111,\n",
       " 1.1680607795715332,\n",
       " 1.1577787399291992,\n",
       " 1.1121315956115723,\n",
       " 1.1532478332519531]"
      ]
     },
     "execution_count": 240,
     "metadata": {},
     "output_type": "execute_result"
    }
   ],
   "source": [
    "elapsed_time"
   ]
  }
 ],
 "metadata": {
  "kernelspec": {
   "display_name": "Python 3 (ipykernel)",
   "language": "python",
   "name": "python3"
  },
  "language_info": {
   "codemirror_mode": {
    "name": "ipython",
    "version": 3
   },
   "file_extension": ".py",
   "mimetype": "text/x-python",
   "name": "python",
   "nbconvert_exporter": "python",
   "pygments_lexer": "ipython3",
   "version": "3.11.4"
  }
 },
 "nbformat": 4,
 "nbformat_minor": 5
}
